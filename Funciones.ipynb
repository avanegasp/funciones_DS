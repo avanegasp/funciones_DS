{
  "nbformat": 4,
  "nbformat_minor": 0,
  "metadata": {
    "colab": {
      "provenance": [],
      "authorship_tag": "ABX9TyMuQzqMPYIAcSgW1IDWWAAW",
      "include_colab_link": true
    },
    "kernelspec": {
      "name": "python3",
      "display_name": "Python 3"
    },
    "language_info": {
      "name": "python"
    }
  },
  "cells": [
    {
      "cell_type": "markdown",
      "metadata": {
        "id": "view-in-github",
        "colab_type": "text"
      },
      "source": [
        "<a href=\"https://colab.research.google.com/github/avanegasp/funciones_DS/blob/main/Funciones.ipynb\" target=\"_parent\"><img src=\"https://colab.research.google.com/assets/colab-badge.svg\" alt=\"Open In Colab\"/></a>"
      ]
    },
    {
      "cell_type": "code",
      "execution_count": null,
      "metadata": {
        "id": "oPfTko4COmN7"
      },
      "outputs": [],
      "source": []
    },
    {
      "cell_type": "markdown",
      "source": [
        "Una función es una regla donde cada elemento de un conjunto A se le asigna un elemento de un conjunto B"
      ],
      "metadata": {
        "id": "IPse9nm5OozL"
      }
    },
    {
      "cell_type": "markdown",
      "source": [
        "FORMAS DE REPRESENTAR UNA FUNCIÓN\n",
        "- Verbalmente en una oración\n",
        "- Númericamente\n",
        "- Visualmente\n",
        "- Algebraicamente"
      ],
      "metadata": {
        "id": "XPa9_KELPKkm"
      }
    },
    {
      "cell_type": "markdown",
      "source": [
        "TIPOS DE VARIABLES\n",
        "\n",
        "Variables cualitativas\n",
        "- Nominales, se le asigna una cualidad\n",
        "- Ordinales, representan un orden\n",
        "- Binarias, toman 2 valores, unos o ceros, true false, frío caliente\n",
        "\n",
        "\n",
        "VARIABLES CUANTITATIVAS (funciones)\n",
        "- Discretas, son finitas, normalmente están separadas por pasos (1 2, 3, etc), no hay valores intermedios\n",
        "- Continuas, son infinitas, tienen rango establecida, toman cualquier valor dentro de los números reales\n",
        "\n",
        "medir una persona\n",
        "\n",
        "\n",
        "\n"
      ],
      "metadata": {
        "id": "RYMvDituPxIQ"
      }
    },
    {
      "cell_type": "markdown",
      "source": [
        "DOMINIO Y RANGO DE UNA FUNCIÓN\n",
        "\n",
        "Dominio: son los valores que toman x y que están definidos nunca indefinidos\n",
        "\n",
        "Rango:todos los resultados que me da una función"
      ],
      "metadata": {
        "id": "SVMfT78uQr3D"
      }
    },
    {
      "cell_type": "markdown",
      "source": [
        "SÍMBOLOS GENERALES\n",
        "\n",
        "Simbolos de igualdad o realación\n",
        "\n",
        "=\n",
        ">\n",
        "<\n",
        "<=\n",
        ">=\n",
        "diferente de \n",
        "verbulilla doble, apróximadamente\n",
        ">> mucho mayor\n",
        "<< mucho menor\n",
        "infinito +\n",
        "infirnito -\n",
        "\n",
        "SIMBILOS DE OPOERACIONES ACUMULATIVAS\n",
        "+ \n",
        "PRODUCTO \n",
        "\n",
        "\n"
      ],
      "metadata": {
        "id": "rV8503gSROe4"
      }
    },
    {
      "cell_type": "markdown",
      "source": [
        "CONJUNTOS\n",
        "\n",
        "UNIVERSO (OMEGA)\n",
        "AuB UNIÓN\n",
        "AnB INTERSECCIÓN\n",
        "aEA PERTENECER\n",
        "NO pertenece\n",
        "conjunto {}\n",
        "\n",
        "\n",
        "CONJUNTOS DE NUMEROS\n",
        "NATURALES N={1,2,3......:}\n",
        "ENTEROS {..., -1,-2-0,1,2,3}\n",
        "Q racionales\n",
        "irracionales todos aquellos numeros decimales, pi, raiz de 2\n",
        "R = reales: union de todos {naturales, enteros, racionales e irracionales}\n",
        "\n",
        "R-\n",
        "\n",
        "FUNCION/APLICACION\n",
        ":(tal que)\n",
        "f:"
      ],
      "metadata": {
        "id": "Vze5Oqf-THxP"
      }
    }
  ]
}